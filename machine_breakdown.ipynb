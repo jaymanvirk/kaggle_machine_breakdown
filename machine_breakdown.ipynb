{
 "cells": [
  {
   "cell_type": "markdown",
   "metadata": {
    "_cell_guid": "b1076dfc-b9ad-4769-8c92-a6c4dae69d19",
    "_uuid": "8f2839f25d086af736a60e9eeb907d3b93b6e0e5"
   },
   "source": [
    "### Introduction\n",
    "\n",
    "In this kernel we're going to to predict machine breakdown based on its indicators. There are more than 50 of them and all of which are unnamed. Therefore, we also need to understand how much we can reduce the number of available dimensions to simplify calculations.\n",
    "\n",
    "Thus we have two questions on the way:\n",
    "1. Which model do we need to accurately predict machine breakdown?\n",
    "2. What is the intrinsic dimension of the data provided?\n",
    "\n",
    "Because of the provided marked data and output as classes, we have a classification problem. \n",
    "Thus we're going to use some of the most popular classfiying models:\n",
    "* Logistic Regression\n",
    "* Decision Tree\n",
    "* Random Forest Classifier\n",
    "* k-Nearest Neighbors \n",
    "* Support Vector Machines\n",
    "\n",
    "\n",
    "For the second question we're going to use the principal component analysis to reveal how many dimensions contribute to the output the most. Thus let us open the veil and figure out which indicators help us predict the future of the machine."
   ]
  },
  {
   "cell_type": "code",
   "execution_count": 1,
   "metadata": {
    "_cell_guid": "79c7e3d0-c299-4dcb-8224-4455121ee9b0",
    "_uuid": "d629ff2d2480ee46fbb7e2d37f6b5fab8052498a"
   },
   "outputs": [],
   "source": [
    "import pandas as pd\n",
    "import numpy as np\n",
    "import matplotlib.pyplot as plt\n",
    "\n",
    "from sklearn.linear_model import LogisticRegression\n",
    "from sklearn.tree import DecisionTreeClassifier\n",
    "from sklearn.ensemble import RandomForestClassifier\n",
    "from sklearn.neighbors import KNeighborsClassifier\n",
    "from sklearn.svm import SVC\n",
    "\n",
    "from sklearn.preprocessing import StandardScaler\n",
    "from sklearn.pipeline import make_pipeline\n",
    "from sklearn.decomposition import PCA\n",
    "from sklearn.metrics import log_loss\n",
    "from sklearn.model_selection import train_test_split, cross_val_score\n",
    "\n",
    "import statsmodels.discrete.discrete_model as sm\n",
    "from scipy import stats\n",
    "stats.chisqprob = lambda chisq, df: stats.chi2.sf(chisq, df)\n",
    "\n",
    "import time"
   ]
  },
  {
   "cell_type": "markdown",
   "metadata": {
    "_cell_guid": "45ce668c-1fcc-4cb8-bad9-db7ac585af5c",
    "_uuid": "c547c0276046f0ea5c2342a7189aecc2faa8c530"
   },
   "source": [
    "### Looking at the data"
   ]
  },
  {
   "cell_type": "code",
   "execution_count": 2,
   "metadata": {
    "_cell_guid": "7e3dc238-77dd-4910-9e27-253b7a35669f",
    "_uuid": "82f8eaf4bd37f8240209a08cb19e847b66d347ab"
   },
   "outputs": [],
   "source": [
    "X = pd.read_csv('./data/xtrain.csv')"
   ]
  },
  {
   "cell_type": "code",
   "execution_count": 3,
   "metadata": {
    "_cell_guid": "4920256d-30c9-4c82-b3d1-eddcf15132ba",
    "_uuid": "f7385595c4aa35ba1eb0cb6b17dcbc2e1e7388f4"
   },
   "outputs": [
    {
     "data": {
      "text/html": [
       "<div>\n",
       "<style scoped>\n",
       "    .dataframe tbody tr th:only-of-type {\n",
       "        vertical-align: middle;\n",
       "    }\n",
       "\n",
       "    .dataframe tbody tr th {\n",
       "        vertical-align: top;\n",
       "    }\n",
       "\n",
       "    .dataframe thead th {\n",
       "        text-align: right;\n",
       "    }\n",
       "</style>\n",
       "<table border=\"1\" class=\"dataframe\">\n",
       "  <thead>\n",
       "    <tr style=\"text-align: right;\">\n",
       "      <th></th>\n",
       "      <th>1</th>\n",
       "      <th>2</th>\n",
       "      <th>3</th>\n",
       "      <th>4</th>\n",
       "      <th>5</th>\n",
       "      <th>6</th>\n",
       "      <th>7</th>\n",
       "      <th>8</th>\n",
       "      <th>9</th>\n",
       "      <th>10</th>\n",
       "      <th>...</th>\n",
       "      <th>49</th>\n",
       "      <th>50</th>\n",
       "      <th>51</th>\n",
       "      <th>52</th>\n",
       "      <th>53</th>\n",
       "      <th>54</th>\n",
       "      <th>55</th>\n",
       "      <th>56</th>\n",
       "      <th>57</th>\n",
       "      <th>58</th>\n",
       "    </tr>\n",
       "  </thead>\n",
       "  <tbody>\n",
       "    <tr>\n",
       "      <th>0</th>\n",
       "      <td>-42.822536</td>\n",
       "      <td>NaN</td>\n",
       "      <td>12.0</td>\n",
       "      <td>NaN</td>\n",
       "      <td>1.0</td>\n",
       "      <td>2.0</td>\n",
       "      <td>24.0</td>\n",
       "      <td>-45.025510</td>\n",
       "      <td>NaN</td>\n",
       "      <td>1.0</td>\n",
       "      <td>...</td>\n",
       "      <td>17.871210</td>\n",
       "      <td>4.0</td>\n",
       "      <td>15.0</td>\n",
       "      <td>21.863365</td>\n",
       "      <td>-13.349394</td>\n",
       "      <td>-2.215086</td>\n",
       "      <td>-5.137377</td>\n",
       "      <td>20.904186</td>\n",
       "      <td>53.939262</td>\n",
       "      <td>-17.328346</td>\n",
       "    </tr>\n",
       "    <tr>\n",
       "      <th>1</th>\n",
       "      <td>-13.478816</td>\n",
       "      <td>13.0</td>\n",
       "      <td>12.0</td>\n",
       "      <td>75.132502</td>\n",
       "      <td>0.0</td>\n",
       "      <td>2.0</td>\n",
       "      <td>24.0</td>\n",
       "      <td>-49.213545</td>\n",
       "      <td>7.0</td>\n",
       "      <td>0.0</td>\n",
       "      <td>...</td>\n",
       "      <td>21.511019</td>\n",
       "      <td>2.0</td>\n",
       "      <td>13.0</td>\n",
       "      <td>-2.880103</td>\n",
       "      <td>21.739125</td>\n",
       "      <td>5.464161</td>\n",
       "      <td>-30.347612</td>\n",
       "      <td>23.304507</td>\n",
       "      <td>47.746225</td>\n",
       "      <td>-47.305489</td>\n",
       "    </tr>\n",
       "    <tr>\n",
       "      <th>2</th>\n",
       "      <td>51.702721</td>\n",
       "      <td>13.0</td>\n",
       "      <td>12.0</td>\n",
       "      <td>63.459270</td>\n",
       "      <td>0.0</td>\n",
       "      <td>3.0</td>\n",
       "      <td>24.0</td>\n",
       "      <td>-58.777043</td>\n",
       "      <td>8.0</td>\n",
       "      <td>0.0</td>\n",
       "      <td>...</td>\n",
       "      <td>NaN</td>\n",
       "      <td>3.0</td>\n",
       "      <td>16.0</td>\n",
       "      <td>21.851623</td>\n",
       "      <td>NaN</td>\n",
       "      <td>7.471764</td>\n",
       "      <td>-12.348314</td>\n",
       "      <td>34.406243</td>\n",
       "      <td>34.479515</td>\n",
       "      <td>-33.326172</td>\n",
       "    </tr>\n",
       "    <tr>\n",
       "      <th>3</th>\n",
       "      <td>NaN</td>\n",
       "      <td>12.0</td>\n",
       "      <td>13.0</td>\n",
       "      <td>-15.492561</td>\n",
       "      <td>1.0</td>\n",
       "      <td>1.0</td>\n",
       "      <td>23.0</td>\n",
       "      <td>0.624258</td>\n",
       "      <td>9.0</td>\n",
       "      <td>0.0</td>\n",
       "      <td>...</td>\n",
       "      <td>16.964848</td>\n",
       "      <td>2.0</td>\n",
       "      <td>15.0</td>\n",
       "      <td>-25.128119</td>\n",
       "      <td>-26.858262</td>\n",
       "      <td>54.203501</td>\n",
       "      <td>10.341217</td>\n",
       "      <td>29.080753</td>\n",
       "      <td>40.235855</td>\n",
       "      <td>-35.835956</td>\n",
       "    </tr>\n",
       "    <tr>\n",
       "      <th>4</th>\n",
       "      <td>7.633273</td>\n",
       "      <td>NaN</td>\n",
       "      <td>13.0</td>\n",
       "      <td>59.862681</td>\n",
       "      <td>0.0</td>\n",
       "      <td>3.0</td>\n",
       "      <td>NaN</td>\n",
       "      <td>-61.395319</td>\n",
       "      <td>NaN</td>\n",
       "      <td>0.0</td>\n",
       "      <td>...</td>\n",
       "      <td>8.467076</td>\n",
       "      <td>4.0</td>\n",
       "      <td>14.0</td>\n",
       "      <td>30.610006</td>\n",
       "      <td>-15.663721</td>\n",
       "      <td>38.323843</td>\n",
       "      <td>-65.561821</td>\n",
       "      <td>33.965883</td>\n",
       "      <td>50.245794</td>\n",
       "      <td>-44.018245</td>\n",
       "    </tr>\n",
       "  </tbody>\n",
       "</table>\n",
       "<p>5 rows × 58 columns</p>\n",
       "</div>"
      ],
      "text/plain": [
       "           1     2     3          4    5    6     7          8    9   10  ...  \\\n",
       "0 -42.822536   NaN  12.0        NaN  1.0  2.0  24.0 -45.025510  NaN  1.0  ...   \n",
       "1 -13.478816  13.0  12.0  75.132502  0.0  2.0  24.0 -49.213545  7.0  0.0  ...   \n",
       "2  51.702721  13.0  12.0  63.459270  0.0  3.0  24.0 -58.777043  8.0  0.0  ...   \n",
       "3        NaN  12.0  13.0 -15.492561  1.0  1.0  23.0   0.624258  9.0  0.0  ...   \n",
       "4   7.633273   NaN  13.0  59.862681  0.0  3.0   NaN -61.395319  NaN  0.0  ...   \n",
       "\n",
       "          49   50    51         52         53         54         55  \\\n",
       "0  17.871210  4.0  15.0  21.863365 -13.349394  -2.215086  -5.137377   \n",
       "1  21.511019  2.0  13.0  -2.880103  21.739125   5.464161 -30.347612   \n",
       "2        NaN  3.0  16.0  21.851623        NaN   7.471764 -12.348314   \n",
       "3  16.964848  2.0  15.0 -25.128119 -26.858262  54.203501  10.341217   \n",
       "4   8.467076  4.0  14.0  30.610006 -15.663721  38.323843 -65.561821   \n",
       "\n",
       "          56         57         58  \n",
       "0  20.904186  53.939262 -17.328346  \n",
       "1  23.304507  47.746225 -47.305489  \n",
       "2  34.406243  34.479515 -33.326172  \n",
       "3  29.080753  40.235855 -35.835956  \n",
       "4  33.965883  50.245794 -44.018245  \n",
       "\n",
       "[5 rows x 58 columns]"
      ]
     },
     "execution_count": 3,
     "metadata": {},
     "output_type": "execute_result"
    }
   ],
   "source": [
    "X.head()"
   ]
  },
  {
   "cell_type": "markdown",
   "metadata": {
    "_cell_guid": "d8ec2f3f-7b34-44a4-9200-0e5778a94ba3",
    "_uuid": "4f9b31d75df39aeb9a5f8454ec231f49e7e8b275"
   },
   "source": [
    "It is already easy to see a bunch of NaN values. And these have to be filled in because simply omitting NaNs dramatically reduces the size of our data. Just look:"
   ]
  },
  {
   "cell_type": "code",
   "execution_count": 4,
   "metadata": {
    "_cell_guid": "07228e07-fbba-452f-a786-94a380a7dce2",
    "_uuid": "1d6e0c7b4d0976cfcfff61d366a9c54c52342667"
   },
   "outputs": [
    {
     "name": "stdout",
     "output_type": "stream",
     "text": [
      "Initial size: (5000, 58)\n",
      "After NaN omit size: (15, 58)\n"
     ]
    }
   ],
   "source": [
    "print('Initial size: {}'.format(X.shape))\n",
    "print('After NaN omit size: {}'.format(X.dropna().shape))"
   ]
  },
  {
   "cell_type": "markdown",
   "metadata": {
    "_cell_guid": "126c7563-a4bc-4ea6-8ca4-2a08c17e60f7",
    "_uuid": "165327990c0a1fd0e4bea21977e1b23de0d6ec71"
   },
   "source": [
    "We may try to fill missing data, although we risk creating skewness."
   ]
  },
  {
   "cell_type": "code",
   "execution_count": 5,
   "metadata": {
    "_cell_guid": "ef419624-c509-455f-82ff-aaece36d9643",
    "_uuid": "c80fca83d024eb09d0e772201a488446d5b76ec3"
   },
   "outputs": [
    {
     "data": {
      "text/html": [
       "<div>\n",
       "<style scoped>\n",
       "    .dataframe tbody tr th:only-of-type {\n",
       "        vertical-align: middle;\n",
       "    }\n",
       "\n",
       "    .dataframe tbody tr th {\n",
       "        vertical-align: top;\n",
       "    }\n",
       "\n",
       "    .dataframe thead th {\n",
       "        text-align: right;\n",
       "    }\n",
       "</style>\n",
       "<table border=\"1\" class=\"dataframe\">\n",
       "  <thead>\n",
       "    <tr style=\"text-align: right;\">\n",
       "      <th></th>\n",
       "      <th>1</th>\n",
       "      <th>2</th>\n",
       "      <th>3</th>\n",
       "      <th>4</th>\n",
       "      <th>5</th>\n",
       "      <th>6</th>\n",
       "      <th>7</th>\n",
       "      <th>8</th>\n",
       "      <th>9</th>\n",
       "      <th>10</th>\n",
       "      <th>...</th>\n",
       "      <th>49</th>\n",
       "      <th>50</th>\n",
       "      <th>51</th>\n",
       "      <th>52</th>\n",
       "      <th>53</th>\n",
       "      <th>54</th>\n",
       "      <th>55</th>\n",
       "      <th>56</th>\n",
       "      <th>57</th>\n",
       "      <th>58</th>\n",
       "    </tr>\n",
       "  </thead>\n",
       "  <tbody>\n",
       "    <tr>\n",
       "      <th>0</th>\n",
       "      <td>-42.822536</td>\n",
       "      <td>13.0</td>\n",
       "      <td>12.0</td>\n",
       "      <td>75.132502</td>\n",
       "      <td>1.0</td>\n",
       "      <td>2.0</td>\n",
       "      <td>24.0</td>\n",
       "      <td>-45.025510</td>\n",
       "      <td>7.0</td>\n",
       "      <td>1.0</td>\n",
       "      <td>...</td>\n",
       "      <td>17.871210</td>\n",
       "      <td>4.0</td>\n",
       "      <td>15.0</td>\n",
       "      <td>21.863365</td>\n",
       "      <td>-13.349394</td>\n",
       "      <td>-2.215086</td>\n",
       "      <td>-5.137377</td>\n",
       "      <td>20.904186</td>\n",
       "      <td>53.939262</td>\n",
       "      <td>-17.328346</td>\n",
       "    </tr>\n",
       "    <tr>\n",
       "      <th>1</th>\n",
       "      <td>-13.478816</td>\n",
       "      <td>13.0</td>\n",
       "      <td>12.0</td>\n",
       "      <td>75.132502</td>\n",
       "      <td>0.0</td>\n",
       "      <td>2.0</td>\n",
       "      <td>24.0</td>\n",
       "      <td>-49.213545</td>\n",
       "      <td>7.0</td>\n",
       "      <td>0.0</td>\n",
       "      <td>...</td>\n",
       "      <td>21.511019</td>\n",
       "      <td>2.0</td>\n",
       "      <td>13.0</td>\n",
       "      <td>-2.880103</td>\n",
       "      <td>21.739125</td>\n",
       "      <td>5.464161</td>\n",
       "      <td>-30.347612</td>\n",
       "      <td>23.304507</td>\n",
       "      <td>47.746225</td>\n",
       "      <td>-47.305489</td>\n",
       "    </tr>\n",
       "    <tr>\n",
       "      <th>2</th>\n",
       "      <td>51.702721</td>\n",
       "      <td>13.0</td>\n",
       "      <td>12.0</td>\n",
       "      <td>63.459270</td>\n",
       "      <td>0.0</td>\n",
       "      <td>3.0</td>\n",
       "      <td>24.0</td>\n",
       "      <td>-58.777043</td>\n",
       "      <td>8.0</td>\n",
       "      <td>0.0</td>\n",
       "      <td>...</td>\n",
       "      <td>16.964848</td>\n",
       "      <td>3.0</td>\n",
       "      <td>16.0</td>\n",
       "      <td>21.851623</td>\n",
       "      <td>-26.858262</td>\n",
       "      <td>7.471764</td>\n",
       "      <td>-12.348314</td>\n",
       "      <td>34.406243</td>\n",
       "      <td>34.479515</td>\n",
       "      <td>-33.326172</td>\n",
       "    </tr>\n",
       "    <tr>\n",
       "      <th>3</th>\n",
       "      <td>7.633273</td>\n",
       "      <td>12.0</td>\n",
       "      <td>13.0</td>\n",
       "      <td>-15.492561</td>\n",
       "      <td>1.0</td>\n",
       "      <td>1.0</td>\n",
       "      <td>23.0</td>\n",
       "      <td>0.624258</td>\n",
       "      <td>9.0</td>\n",
       "      <td>0.0</td>\n",
       "      <td>...</td>\n",
       "      <td>16.964848</td>\n",
       "      <td>2.0</td>\n",
       "      <td>15.0</td>\n",
       "      <td>-25.128119</td>\n",
       "      <td>-26.858262</td>\n",
       "      <td>54.203501</td>\n",
       "      <td>10.341217</td>\n",
       "      <td>29.080753</td>\n",
       "      <td>40.235855</td>\n",
       "      <td>-35.835956</td>\n",
       "    </tr>\n",
       "    <tr>\n",
       "      <th>4</th>\n",
       "      <td>7.633273</td>\n",
       "      <td>13.0</td>\n",
       "      <td>13.0</td>\n",
       "      <td>59.862681</td>\n",
       "      <td>0.0</td>\n",
       "      <td>3.0</td>\n",
       "      <td>23.0</td>\n",
       "      <td>-61.395319</td>\n",
       "      <td>7.0</td>\n",
       "      <td>0.0</td>\n",
       "      <td>...</td>\n",
       "      <td>8.467076</td>\n",
       "      <td>4.0</td>\n",
       "      <td>14.0</td>\n",
       "      <td>30.610006</td>\n",
       "      <td>-15.663721</td>\n",
       "      <td>38.323843</td>\n",
       "      <td>-65.561821</td>\n",
       "      <td>33.965883</td>\n",
       "      <td>50.245794</td>\n",
       "      <td>-44.018245</td>\n",
       "    </tr>\n",
       "  </tbody>\n",
       "</table>\n",
       "<p>5 rows × 58 columns</p>\n",
       "</div>"
      ],
      "text/plain": [
       "           1     2     3          4    5    6     7          8    9   10  ...  \\\n",
       "0 -42.822536  13.0  12.0  75.132502  1.0  2.0  24.0 -45.025510  7.0  1.0  ...   \n",
       "1 -13.478816  13.0  12.0  75.132502  0.0  2.0  24.0 -49.213545  7.0  0.0  ...   \n",
       "2  51.702721  13.0  12.0  63.459270  0.0  3.0  24.0 -58.777043  8.0  0.0  ...   \n",
       "3   7.633273  12.0  13.0 -15.492561  1.0  1.0  23.0   0.624258  9.0  0.0  ...   \n",
       "4   7.633273  13.0  13.0  59.862681  0.0  3.0  23.0 -61.395319  7.0  0.0  ...   \n",
       "\n",
       "          49   50    51         52         53         54         55  \\\n",
       "0  17.871210  4.0  15.0  21.863365 -13.349394  -2.215086  -5.137377   \n",
       "1  21.511019  2.0  13.0  -2.880103  21.739125   5.464161 -30.347612   \n",
       "2  16.964848  3.0  16.0  21.851623 -26.858262   7.471764 -12.348314   \n",
       "3  16.964848  2.0  15.0 -25.128119 -26.858262  54.203501  10.341217   \n",
       "4   8.467076  4.0  14.0  30.610006 -15.663721  38.323843 -65.561821   \n",
       "\n",
       "          56         57         58  \n",
       "0  20.904186  53.939262 -17.328346  \n",
       "1  23.304507  47.746225 -47.305489  \n",
       "2  34.406243  34.479515 -33.326172  \n",
       "3  29.080753  40.235855 -35.835956  \n",
       "4  33.965883  50.245794 -44.018245  \n",
       "\n",
       "[5 rows x 58 columns]"
      ]
     },
     "execution_count": 5,
     "metadata": {},
     "output_type": "execute_result"
    }
   ],
   "source": [
    "X = X.fillna(method='bfill').fillna(method='ffill')\n",
    "X.head()"
   ]
  },
  {
   "cell_type": "markdown",
   "metadata": {
    "_cell_guid": "2269b717-5acc-46e3-ad4b-f190d2cc51ea",
    "_uuid": "fb0bf1ec732ef6568a974749d656ae109670e7fc"
   },
   "source": [
    "Next we import our desired labels, our classes which we will predict later."
   ]
  },
  {
   "cell_type": "code",
   "execution_count": 6,
   "metadata": {
    "_cell_guid": "cfc08cac-588b-45e2-b2c3-657c0e3de408",
    "_uuid": "9d55266172d8df93e1456a83780725930062d2bd"
   },
   "outputs": [],
   "source": [
    "y = pd.read_csv('./data/ytrain.csv')"
   ]
  },
  {
   "cell_type": "code",
   "execution_count": 7,
   "metadata": {
    "_cell_guid": "ab8dfdae-c277-4271-a9bc-07f55ff8efa9",
    "_uuid": "3b4fed947b44a4078b681398f834689a51fe325d"
   },
   "outputs": [
    {
     "name": "stdout",
     "output_type": "stream",
     "text": [
      "<class 'pandas.core.frame.DataFrame'>\n",
      "RangeIndex: 5000 entries, 0 to 4999\n",
      "Data columns (total 1 columns):\n",
      " #   Column  Non-Null Count  Dtype\n",
      "---  ------  --------------  -----\n",
      " 0   x       5000 non-null   int64\n",
      "dtypes: int64(1)\n",
      "memory usage: 39.2 KB\n"
     ]
    }
   ],
   "source": [
    "y.info()"
   ]
  },
  {
   "cell_type": "markdown",
   "metadata": {
    "_cell_guid": "b00ace37-620b-40e5-81ad-e943724a7574",
    "_uuid": "7bfe502aed520bac47402f08d1a360c779e279cf"
   },
   "source": [
    "And convert loaded y into array to work with **train_test_split** function."
   ]
  },
  {
   "cell_type": "code",
   "execution_count": 8,
   "metadata": {
    "_cell_guid": "01ed68a8-2f10-4457-98b5-f667d08093ca",
    "_uuid": "0a62339e9aa1003c2993b8fbd49e548bcadd22b7"
   },
   "outputs": [],
   "source": [
    "y = np.array(y).ravel()"
   ]
  },
  {
   "cell_type": "markdown",
   "metadata": {
    "_cell_guid": "f676418c-38b3-4cc8-b928-39234d905b20",
    "_uuid": "8b7cd076762fdc15356a84f3dd6ebba171c7d497"
   },
   "source": [
    "### Defining the models to use\n",
    "\n",
    "As it was mentioned before - we're soling a classification problem. Fortunately, there are a lot of powerful classifiers. However we're going to use only fraction of them:\n",
    "* Logistic Regression\n",
    "* Decision Tree\n",
    "* Random Forest Classifier\n",
    "* k-Nearest Neighbors \n",
    "* Support Vector Machines\n"
   ]
  },
  {
   "cell_type": "markdown",
   "metadata": {
    "_cell_guid": "7e55d493-fbee-4637-9cb3-38f91bb7a67c",
    "_uuid": "122bb500e19b195b60c1e121e165b5a8e54f5754"
   },
   "source": [
    "#### Train and test dataset splitting\n",
    "\n",
    "For models tests we have to split training data into train and test parts."
   ]
  },
  {
   "cell_type": "code",
   "execution_count": 9,
   "metadata": {
    "_cell_guid": "affb3ba6-fac0-472f-931e-9849eb393d9c",
    "_uuid": "3e623c6e8828024dc607ac9f7fc9f0b34cf225ed"
   },
   "outputs": [],
   "source": [
    "X_train, X_test, y_train, y_test = train_test_split(X, y, test_size=0.4, random_state=42)"
   ]
  },
  {
   "cell_type": "markdown",
   "metadata": {
    "_cell_guid": "f58fca94-a939-4234-ad71-d93a68afead0",
    "_uuid": "3a7e3916d8d5f92d6905a3b5a7a4dbad004d13ce"
   },
   "source": [
    "#### Logistic Regression Test Statistics\n",
    "\n",
    "Before the actual modelling and prediction let us see the impact of the variables (features) and their significance. For that we're going to use model estimation statistics.\n",
    "\n",
    "There will be a lot of indicators, but basically we are interested in:\n",
    "* Pseudo R squared as one of the important indicators of model quality\n",
    "* P-value of each variable as the indicator of variable significance"
   ]
  },
  {
   "cell_type": "code",
   "execution_count": 10,
   "metadata": {
    "_cell_guid": "4db6cdbf-863d-49c5-8fc4-5f0eff4f02d0",
    "_uuid": "a371322ecdbb49d3e8b4a21adb5a6df95649c43b"
   },
   "outputs": [
    {
     "name": "stdout",
     "output_type": "stream",
     "text": [
      "Optimization terminated successfully.\n",
      "         Current function value: 0.605355\n",
      "         Iterations 5\n",
      "                           Logit Regression Results                           \n",
      "==============================================================================\n",
      "Dep. Variable:                      y   No. Observations:                 3000\n",
      "Model:                          Logit   Df Residuals:                     2942\n",
      "Method:                           MLE   Df Model:                           57\n",
      "Date:                Tue, 27 Dec 2022   Pseudo R-squ.:                 0.01531\n",
      "Time:                        17:07:32   Log-Likelihood:                -1816.1\n",
      "converged:                       True   LL-Null:                       -1844.3\n",
      "Covariance Type:            nonrobust   LLR p-value:                    0.4949\n",
      "==============================================================================\n",
      "                 coef    std err          z      P>|z|      [0.025      0.975]\n",
      "------------------------------------------------------------------------------\n",
      "1              0.0003      0.000      0.806      0.420      -0.000       0.001\n",
      "2              0.0334      0.046      0.727      0.467      -0.057       0.123\n",
      "3             -0.0415      0.024     -1.704      0.088      -0.089       0.006\n",
      "4             -0.0029      0.002     -1.491      0.136      -0.007       0.001\n",
      "5             -0.0635      0.078     -0.810      0.418      -0.217       0.090\n",
      "6             -0.0067      0.053     -0.128      0.898      -0.110       0.096\n",
      "7             -0.0249      0.036     -0.699      0.485      -0.095       0.045\n",
      "8              0.0020      0.002      0.969      0.333      -0.002       0.006\n",
      "9             -0.0002      0.031     -0.006      0.996      -0.061       0.061\n",
      "10             0.1095      0.090      1.210      0.226      -0.068       0.287\n",
      "11            -0.0007      0.001     -0.804      0.422      -0.002       0.001\n",
      "12            -0.0001      0.001     -0.151      0.880      -0.001       0.001\n",
      "13            -0.0003      0.001     -0.337      0.736      -0.002       0.001\n",
      "14            -0.0003      0.001     -0.305      0.760      -0.002       0.002\n",
      "15             0.0233      0.025      0.943      0.346      -0.025       0.072\n",
      "16             0.0029      0.006      0.521      0.603      -0.008       0.014\n",
      "17             0.0039      0.024      0.166      0.868      -0.042       0.050\n",
      "18             0.0157      0.026      0.602      0.547      -0.035       0.067\n",
      "19             0.0003      0.001      0.348      0.728      -0.001       0.002\n",
      "20            -0.0015      0.002     -0.643      0.521      -0.006       0.003\n",
      "21             0.0231      0.020      1.154      0.249      -0.016       0.062\n",
      "22             0.0029      0.024      0.122      0.903      -0.044       0.050\n",
      "23            -0.0442      0.048     -0.912      0.362      -0.139       0.051\n",
      "24             0.0236      0.021      1.120      0.263      -0.018       0.065\n",
      "25             0.0017      0.001      1.261      0.207      -0.001       0.004\n",
      "26            -0.0052      0.019     -0.269      0.788      -0.043       0.033\n",
      "27            -0.0144      0.017     -0.862      0.389      -0.047       0.018\n",
      "28            -0.0033      0.005     -0.719      0.472      -0.012       0.006\n",
      "29             0.0513      0.026      2.010      0.044       0.001       0.101\n",
      "30             0.0145      0.060      0.240      0.810      -0.104       0.132\n",
      "31             0.0625      0.041      1.538      0.124      -0.017       0.142\n",
      "32            -0.0125      0.028     -0.450      0.653      -0.067       0.042\n",
      "33             0.0066      0.004      1.543      0.123      -0.002       0.015\n",
      "34            -0.0010      0.001     -0.821      0.412      -0.003       0.001\n",
      "35             0.0042      0.002      2.760      0.006       0.001       0.007\n",
      "36             0.0006      0.025      0.024      0.981      -0.048       0.049\n",
      "37         -4.795e-06   9.14e-05     -0.052      0.958      -0.000       0.000\n",
      "38            -0.0009      0.001     -1.002      0.316      -0.003       0.001\n",
      "39            -0.0031      0.003     -1.153      0.249      -0.008       0.002\n",
      "40            -0.0012      0.002     -0.522      0.602      -0.006       0.003\n",
      "41             0.0006      0.001      0.748      0.455      -0.001       0.002\n",
      "42             0.0327      0.014      2.406      0.016       0.006       0.059\n",
      "43             0.0024      0.004      0.549      0.583      -0.006       0.011\n",
      "44            -0.0523      0.051     -1.028      0.304      -0.152       0.047\n",
      "45            -0.0700      0.039     -1.819      0.069      -0.146       0.005\n",
      "46            -0.0001      0.001     -0.110      0.913      -0.002       0.002\n",
      "47             0.1312      0.101      1.294      0.196      -0.067       0.330\n",
      "48            -0.0104      0.024     -0.430      0.667      -0.058       0.037\n",
      "49            -0.0079      0.006     -1.261      0.207      -0.020       0.004\n",
      "50            -0.0264      0.037     -0.719      0.472      -0.098       0.046\n",
      "51             0.0240      0.018      1.364      0.172      -0.010       0.058\n",
      "52            -0.0011      0.001     -0.775      0.438      -0.004       0.002\n",
      "53            -0.0007      0.001     -0.772      0.440      -0.002       0.001\n",
      "54            -0.0005      0.001     -0.576      0.565      -0.002       0.001\n",
      "55             0.0003      0.002      0.168      0.867      -0.003       0.004\n",
      "56             0.0010      0.005      0.205      0.837      -0.008       0.010\n",
      "57             0.0028      0.007      0.420      0.674      -0.010       0.016\n",
      "58            -0.0033      0.003     -1.263      0.207      -0.008       0.002\n",
      "==============================================================================\n"
     ]
    }
   ],
   "source": [
    "model = sm.Logit(y_train, X_train)\n",
    "result = model.fit()\n",
    "print(result.summary())"
   ]
  },
  {
   "cell_type": "markdown",
   "metadata": {
    "_cell_guid": "fe48dd51-d53f-45dc-8d58-a191693b3cfe",
    "_uuid": "d0bbcfde039a852501ed9b7cffdba18687f5425a"
   },
   "source": [
    "The pseudo R squared is super low. That means our model is not much better than predicting average value. Let's take a look if there will be an improvement if we choose variables with p-value equal or lower 10%. "
   ]
  },
  {
   "cell_type": "code",
   "execution_count": 11,
   "metadata": {
    "_cell_guid": "78a4d07a-172f-48f1-a7ef-4777d0cb617b",
    "_uuid": "97cab41c4762271c085357175a413b296dca4868"
   },
   "outputs": [
    {
     "data": {
      "text/html": [
       "<div>\n",
       "<style scoped>\n",
       "    .dataframe tbody tr th:only-of-type {\n",
       "        vertical-align: middle;\n",
       "    }\n",
       "\n",
       "    .dataframe tbody tr th {\n",
       "        vertical-align: top;\n",
       "    }\n",
       "\n",
       "    .dataframe thead th {\n",
       "        text-align: right;\n",
       "    }\n",
       "</style>\n",
       "<table border=\"1\" class=\"dataframe\">\n",
       "  <thead>\n",
       "    <tr style=\"text-align: right;\">\n",
       "      <th></th>\n",
       "      <th>3</th>\n",
       "      <th>29</th>\n",
       "      <th>35</th>\n",
       "      <th>42</th>\n",
       "      <th>45</th>\n",
       "    </tr>\n",
       "  </thead>\n",
       "  <tbody>\n",
       "    <tr>\n",
       "      <th>4576</th>\n",
       "      <td>14.0</td>\n",
       "      <td>2.0</td>\n",
       "      <td>-23.734065</td>\n",
       "      <td>-2.137954</td>\n",
       "      <td>10.0</td>\n",
       "    </tr>\n",
       "    <tr>\n",
       "      <th>1088</th>\n",
       "      <td>12.0</td>\n",
       "      <td>1.0</td>\n",
       "      <td>-47.587401</td>\n",
       "      <td>-0.346686</td>\n",
       "      <td>10.0</td>\n",
       "    </tr>\n",
       "    <tr>\n",
       "      <th>479</th>\n",
       "      <td>11.0</td>\n",
       "      <td>3.0</td>\n",
       "      <td>-56.009386</td>\n",
       "      <td>3.095804</td>\n",
       "      <td>11.0</td>\n",
       "    </tr>\n",
       "    <tr>\n",
       "      <th>727</th>\n",
       "      <td>14.0</td>\n",
       "      <td>3.0</td>\n",
       "      <td>-45.692497</td>\n",
       "      <td>0.031271</td>\n",
       "      <td>11.0</td>\n",
       "    </tr>\n",
       "    <tr>\n",
       "      <th>3783</th>\n",
       "      <td>10.0</td>\n",
       "      <td>2.0</td>\n",
       "      <td>-69.954678</td>\n",
       "      <td>7.427580</td>\n",
       "      <td>9.0</td>\n",
       "    </tr>\n",
       "  </tbody>\n",
       "</table>\n",
       "</div>"
      ],
      "text/plain": [
       "         3   29         35        42    45\n",
       "4576  14.0  2.0 -23.734065 -2.137954  10.0\n",
       "1088  12.0  1.0 -47.587401 -0.346686  10.0\n",
       "479   11.0  3.0 -56.009386  3.095804  11.0\n",
       "727   14.0  3.0 -45.692497  0.031271  11.0\n",
       "3783  10.0  2.0 -69.954678  7.427580   9.0"
      ]
     },
     "execution_count": 11,
     "metadata": {},
     "output_type": "execute_result"
    }
   ],
   "source": [
    "sig_columns = [i for i,x in enumerate(result.pvalues.ravel()) if x<=0.1]\n",
    "\n",
    "X_train.iloc[:,sig_columns].head()"
   ]
  },
  {
   "cell_type": "code",
   "execution_count": 12,
   "metadata": {
    "_cell_guid": "203ea85f-5b39-4fbe-bc4b-c8b3556378d1",
    "_uuid": "96bd9e4e19840ce23494efc1f84cc5c3d408fa2c"
   },
   "outputs": [
    {
     "name": "stdout",
     "output_type": "stream",
     "text": [
      "Optimization terminated successfully.\n",
      "         Current function value: 0.611043\n",
      "         Iterations 5\n",
      "                           Logit Regression Results                           \n",
      "==============================================================================\n",
      "Dep. Variable:                      y   No. Observations:                 3000\n",
      "Model:                          Logit   Df Residuals:                     2995\n",
      "Method:                           MLE   Df Model:                            4\n",
      "Date:                Tue, 27 Dec 2022   Pseudo R-squ.:                0.006057\n",
      "Time:                        17:07:33   Log-Likelihood:                -1833.1\n",
      "converged:                       True   LL-Null:                       -1844.3\n",
      "Covariance Type:            nonrobust   LLR p-value:                 0.0001714\n",
      "==============================================================================\n",
      "                 coef    std err          z      P>|z|      [0.025      0.975]\n",
      "------------------------------------------------------------------------------\n",
      "3             -0.0341      0.021     -1.645      0.100      -0.075       0.007\n",
      "29             0.0514      0.025      2.064      0.039       0.003       0.100\n",
      "35             0.0038      0.001      2.591      0.010       0.001       0.007\n",
      "42             0.0327      0.013      2.446      0.014       0.006       0.059\n",
      "45            -0.0443      0.023     -1.952      0.051      -0.089       0.000\n",
      "==============================================================================\n"
     ]
    }
   ],
   "source": [
    "model = sm.Logit(y_train, X_train.iloc[:,sig_columns])\n",
    "result = model.fit()\n",
    "print(result.summary())"
   ]
  },
  {
   "cell_type": "markdown",
   "metadata": {
    "_cell_guid": "4dae654e-a79e-433e-a764-cdfd7b6f127c",
    "_uuid": "406d617a5245a4385f9959186d0006ae428cc01d"
   },
   "source": [
    "Well. Now we have that our reduction from 58 features to 11 led us to even lower R squared."
   ]
  },
  {
   "cell_type": "markdown",
   "metadata": {
    "_cell_guid": "704d5d84-cf1c-4bae-8dd9-b1d7f57e8d05",
    "_uuid": "2f639efa9d18b7892115d4bdc18f0aab5a642d4a"
   },
   "source": [
    "#### The PCA\n",
    "\n",
    "Principal Component Analysis.\n",
    "\n",
    "With this analysis we may understand how much we can reduce the number of our dimensions to exclude the noise in the data. And we may also transorm the data in a way to get components which determine the highest variance of the data and thus the greatest impact.\n",
    "\n",
    "But before we start transform our data, we need to determine the number of components we want to use. For this we're going to use histogram of explained variances by the number of PCA features. "
   ]
  },
  {
   "cell_type": "code",
   "execution_count": 13,
   "metadata": {
    "_cell_guid": "94c31c31-f1fa-4c93-b739-ec5f87787092",
    "_uuid": "d6a3063ced2c1ccd87f43e601bfde25419d37676"
   },
   "outputs": [
    {
     "data": {
      "image/png": "[encoded data removed]",
      "text/plain": [
       "<Figure size 1500x800 with 1 Axes>"
      ]
     },
     "metadata": {},
     "output_type": "display_data"
    }
   ],
   "source": [
    "pca = PCA()\n",
    "\n",
    "pca.fit(X_train)\n",
    "plt.figure(figsize=(15, 8))\n",
    "features = range(pca.n_components_)\n",
    "plt.plot(features, pca.explained_variance_ratio_.cumsum(),'--o', label='cumulative explained variance ratio')\n",
    "plt.xlabel('PCA feature')\n",
    "plt.ylabel('variance')\n",
    "plt.xticks(features)\n",
    "plt.legend()\n",
    "plt.show()"
   ]
  },
  {
   "cell_type": "markdown",
   "metadata": {
    "_cell_guid": "37976f15-99b4-4964-807e-1d886fdc4fcc",
    "_uuid": "79afacb90e40ee1018b31f0214e38d8ee562748f"
   },
   "source": [
    "As can be clearly seen from the chart with a single component we can explain **~88%** of the variance!\n",
    "\n",
    "If we want to be closer to a normal distribution or there are problems with feature scales, we may normalize our data. With normalization we might see the contribution of other components as well."
   ]
  },
  {
   "cell_type": "markdown",
   "metadata": {
    "_cell_guid": "8a0fd28f-eede-4297-8903-fdf458ae6e03",
    "_uuid": "112aec0f5b1042f8a961c54c61b20a6d9f55a235"
   },
   "source": [
    "Therefore, let us look at the original features' variance:"
   ]
  },
  {
   "cell_type": "code",
   "execution_count": 14,
   "metadata": {
    "_cell_guid": "2d9b0f4d-383b-4b6d-9163-594068bca130",
    "_uuid": "617c847fb27bd2c35e57182a3942d9ae2d35eac6"
   },
   "outputs": [
    {
     "data": {
      "image/png": "[encoded data removed]",
      "text/plain": [
       "<Figure size 1500x800 with 1 Axes>"
      ]
     },
     "metadata": {},
     "output_type": "display_data"
    }
   ],
   "source": [
    "plt.figure(figsize=(15,8))\n",
    "plt.plot(range(0,58),X_train.var().cumsum(),'--o', label=\"cumulative feature variance\")\n",
    "plt.legend()\n",
    "plt.show()"
   ]
  },
  {
   "cell_type": "markdown",
   "metadata": {
    "_cell_guid": "16d8abc5-b1c6-4d66-a00d-15d570bb46ac",
    "_uuid": "6bee159864492b5ffc36092f2f65180b3019b4b8"
   },
   "source": [
    "It looks like the 36th variable has outstanding variance. Thus rescaling is needed."
   ]
  },
  {
   "cell_type": "code",
   "execution_count": 15,
   "metadata": {
    "_cell_guid": "36ec5ccc-3598-4e62-aa3a-412838f99ced",
    "_uuid": "2301adc1eb54b35510f6c823a42bfd17c9d3940f"
   },
   "outputs": [
    {
     "data": {
      "image/png": "[encoded data removed]",
      "text/plain": [
       "<Figure size 1500x800 with 1 Axes>"
      ]
     },
     "metadata": {},
     "output_type": "display_data"
    }
   ],
   "source": [
    "scaler = StandardScaler()\n",
    "\n",
    "pca = PCA()\n",
    "\n",
    "pipeline = make_pipeline(scaler, pca)\n",
    "\n",
    "pipeline.fit(X_train)\n",
    "\n",
    "plt.figure(figsize=(15, 8))\n",
    "features = range(pca.n_components_)\n",
    "plt.plot(features, pca.explained_variance_ratio_.cumsum(),'--o', label='normalized cumulative explained variance ratio')\n",
    "plt.xlabel('PCA feature')\n",
    "plt.ylabel('variance')\n",
    "plt.xticks(features)\n",
    "plt.legend()\n",
    "plt.show()"
   ]
  },
  {
   "cell_type": "markdown",
   "metadata": {
    "_cell_guid": "3ddc0dbf-5baa-46df-ab9e-73e3e4f4bef0",
    "_uuid": "6c3cce34e8bd297a9b5e230aed36e2cfe5dd3516"
   },
   "source": [
    "Well, now we have that all our components have equal contribution. That is strange. However, let's give it a chance."
   ]
  },
  {
   "cell_type": "code",
   "execution_count": 16,
   "metadata": {
    "_cell_guid": "84c82ff2-1045-4f8d-a5f9-907c26cf1d91",
    "_uuid": "a3296fb64d7c8661d98ca64644d4b269795d19e3"
   },
   "outputs": [
    {
     "name": "stdout",
     "output_type": "stream",
     "text": [
      "pca_X_train shape: (3000, 58)\n",
      "pca_X_test shape: (2000, 58)\n"
     ]
    }
   ],
   "source": [
    "pca_X_train = pipeline.transform(X_train)\n",
    "pca_X_test = pipeline.transform(X_test)\n",
    "\n",
    "print('pca_X_train shape: {}'.format(pca_X_train.shape))\n",
    "print('pca_X_test shape: {}'.format(pca_X_test.shape))"
   ]
  },
  {
   "cell_type": "markdown",
   "metadata": {
    "_cell_guid": "e8ea4aeb-9a7d-44c9-9cef-380e14eadb3d",
    "_uuid": "6bfe36ab0a2112059709aa9fdfb72396f6b166f2"
   },
   "source": [
    "#### Modelling without PCA features\n",
    "\n",
    "From now we are going to implement imported models to see the difference in accuracy, log loss and time usage. And no PCA will be applied.\n",
    "\n",
    "With such decision we get the opportunity to compare the performance not only between models but also between used features."
   ]
  },
  {
   "cell_type": "code",
   "execution_count": 17,
   "metadata": {
    "_cell_guid": "5ebfd475-8b41-478b-9ac4-205a72e5bc7d",
    "_uuid": "0b2b9afef5ebeb9c250bc2501120971764d76e95"
   },
   "outputs": [],
   "source": [
    "def compute_models(X_train, y_train, X_test, y_test):\n",
    "    results={}\n",
    "    def test_model(model):\n",
    "        start_time = time.time()\n",
    "        \n",
    "        model.fit(X_train, y_train)\n",
    "        test_accuracy = model.score(X_test, y_test)\n",
    "        model_probs = model.predict_proba(X_test)\n",
    "        test_log_loss = log_loss(y_test, model_probs)\n",
    "        cv_acc = cross_val_score(model, X_train, y_train, scoring='accuracy', cv=5)\n",
    "        \n",
    "        scores= [cv_acc.mean(), test_accuracy, test_log_loss, (time.time() - start_time)]\n",
    "        return scores\n",
    "    m = LogisticRegression()\n",
    "    results['Logistic Regression'] = test_model(m)\n",
    "    \n",
    "    for i in range(6, 15, 4):\n",
    "        m = DecisionTreeClassifier(max_depth=3, min_samples_leaf=i)\n",
    "        results['Decision tree {}'.format(i)] = test_model(m)\n",
    "    \n",
    "    for i in range(60,150,40):\n",
    "        m = RandomForestClassifier(n_estimators=i)\n",
    "        results['Random forest {}'.format(i)] = test_model(m)\n",
    "    \n",
    "    for i in range(6,15,4):\n",
    "        m = KNeighborsClassifier(n_neighbors = i)\n",
    "        results['KNN {}'.format(i)] = test_model(m)\n",
    "        \n",
    "    m = SVC(probability=True)\n",
    "    results['SVM'] = test_model(m)\n",
    "    \n",
    "    results = pd.DataFrame.from_dict(results,orient='index')\n",
    "    results.columns=[\"Train mean accuracy\", \"Test accuracy\", \"Test log loss\", \"Time duration (sec)\"] \n",
    "    results=results.sort_values(by=[\"Test accuracy\",\"Test log loss\"],ascending=[False,True])\n",
    "\n",
    "    return results"
   ]
  },
  {
   "cell_type": "code",
   "execution_count": 18,
   "metadata": {
    "_cell_guid": "c3ba8a45-4581-4e55-a8a4-c9bf009329d8",
    "_uuid": "bb4f9b063f95b423930db1a57205b3c58e37c2c0"
   },
   "outputs": [
    {
     "name": "stderr",
     "output_type": "stream",
     "text": [
      "/usr/local/lib/python3.10/site-packages/sklearn/linear_model/_logistic.py:458: ConvergenceWarning: lbfgs failed to converge (status=1):\n",
      "STOP: TOTAL NO. of ITERATIONS REACHED LIMIT.\n",
      "\n",
      "Increase the number of iterations (max_iter) or scale the data as shown in:\n",
      "    https://scikit-learn.org/stable/modules/preprocessing.html\n",
      "Please also refer to the documentation for alternative solver options:\n",
      "    https://scikit-learn.org/stable/modules/linear_model.html#logistic-regression\n",
      "  n_iter_i = _check_optimize_result(\n",
      "/usr/local/lib/python3.10/site-packages/sklearn/linear_model/_logistic.py:458: ConvergenceWarning: lbfgs failed to converge (status=1):\n",
      "STOP: TOTAL NO. of ITERATIONS REACHED LIMIT.\n",
      "\n",
      "Increase the number of iterations (max_iter) or scale the data as shown in:\n",
      "    https://scikit-learn.org/stable/modules/preprocessing.html\n",
      "Please also refer to the documentation for alternative solver options:\n",
      "    https://scikit-learn.org/stable/modules/linear_model.html#logistic-regression\n",
      "  n_iter_i = _check_optimize_result(\n",
      "/usr/local/lib/python3.10/site-packages/sklearn/linear_model/_logistic.py:458: ConvergenceWarning: lbfgs failed to converge (status=1):\n",
      "STOP: TOTAL NO. of ITERATIONS REACHED LIMIT.\n",
      "\n",
      "Increase the number of iterations (max_iter) or scale the data as shown in:\n",
      "    https://scikit-learn.org/stable/modules/preprocessing.html\n",
      "Please also refer to the documentation for alternative solver options:\n",
      "    https://scikit-learn.org/stable/modules/linear_model.html#logistic-regression\n",
      "  n_iter_i = _check_optimize_result(\n",
      "/usr/local/lib/python3.10/site-packages/sklearn/linear_model/_logistic.py:458: ConvergenceWarning: lbfgs failed to converge (status=1):\n",
      "STOP: TOTAL NO. of ITERATIONS REACHED LIMIT.\n",
      "\n",
      "Increase the number of iterations (max_iter) or scale the data as shown in:\n",
      "    https://scikit-learn.org/stable/modules/preprocessing.html\n",
      "Please also refer to the documentation for alternative solver options:\n",
      "    https://scikit-learn.org/stable/modules/linear_model.html#logistic-regression\n",
      "  n_iter_i = _check_optimize_result(\n",
      "/usr/local/lib/python3.10/site-packages/sklearn/linear_model/_logistic.py:458: ConvergenceWarning: lbfgs failed to converge (status=1):\n",
      "STOP: TOTAL NO. of ITERATIONS REACHED LIMIT.\n",
      "\n",
      "Increase the number of iterations (max_iter) or scale the data as shown in:\n",
      "    https://scikit-learn.org/stable/modules/preprocessing.html\n",
      "Please also refer to the documentation for alternative solver options:\n",
      "    https://scikit-learn.org/stable/modules/linear_model.html#logistic-regression\n",
      "  n_iter_i = _check_optimize_result(\n",
      "/usr/local/lib/python3.10/site-packages/sklearn/linear_model/_logistic.py:458: ConvergenceWarning: lbfgs failed to converge (status=1):\n",
      "STOP: TOTAL NO. of ITERATIONS REACHED LIMIT.\n",
      "\n",
      "Increase the number of iterations (max_iter) or scale the data as shown in:\n",
      "    https://scikit-learn.org/stable/modules/preprocessing.html\n",
      "Please also refer to the documentation for alternative solver options:\n",
      "    https://scikit-learn.org/stable/modules/linear_model.html#logistic-regression\n",
      "  n_iter_i = _check_optimize_result(\n"
     ]
    },
    {
     "data": {
      "text/html": [
       "<div>\n",
       "<style scoped>\n",
       "    .dataframe tbody tr th:only-of-type {\n",
       "        vertical-align: middle;\n",
       "    }\n",
       "\n",
       "    .dataframe tbody tr th {\n",
       "        vertical-align: top;\n",
       "    }\n",
       "\n",
       "    .dataframe thead th {\n",
       "        text-align: right;\n",
       "    }\n",
       "</style>\n",
       "<table border=\"1\" class=\"dataframe\">\n",
       "  <thead>\n",
       "    <tr style=\"text-align: right;\">\n",
       "      <th></th>\n",
       "      <th>Train mean accuracy</th>\n",
       "      <th>Test accuracy</th>\n",
       "      <th>Test log loss</th>\n",
       "      <th>Time duration (sec)</th>\n",
       "    </tr>\n",
       "  </thead>\n",
       "  <tbody>\n",
       "    <tr>\n",
       "      <th>Random forest 100</th>\n",
       "      <td>0.694333</td>\n",
       "      <td>0.6985</td>\n",
       "      <td>0.623871</td>\n",
       "      <td>10.969591</td>\n",
       "    </tr>\n",
       "    <tr>\n",
       "      <th>Random forest 140</th>\n",
       "      <td>0.695000</td>\n",
       "      <td>0.6980</td>\n",
       "      <td>0.619746</td>\n",
       "      <td>12.111124</td>\n",
       "    </tr>\n",
       "    <tr>\n",
       "      <th>SVM</th>\n",
       "      <td>0.695333</td>\n",
       "      <td>0.6975</td>\n",
       "      <td>0.612710</td>\n",
       "      <td>31.886543</td>\n",
       "    </tr>\n",
       "    <tr>\n",
       "      <th>Decision tree 6</th>\n",
       "      <td>0.686000</td>\n",
       "      <td>0.6975</td>\n",
       "      <td>0.624203</td>\n",
       "      <td>0.233759</td>\n",
       "    </tr>\n",
       "    <tr>\n",
       "      <th>Decision tree 10</th>\n",
       "      <td>0.687333</td>\n",
       "      <td>0.6975</td>\n",
       "      <td>0.624203</td>\n",
       "      <td>0.227315</td>\n",
       "    </tr>\n",
       "    <tr>\n",
       "      <th>Decision tree 14</th>\n",
       "      <td>0.686667</td>\n",
       "      <td>0.6975</td>\n",
       "      <td>0.624203</td>\n",
       "      <td>0.224374</td>\n",
       "    </tr>\n",
       "    <tr>\n",
       "      <th>Logistic Regression</th>\n",
       "      <td>0.692667</td>\n",
       "      <td>0.6970</td>\n",
       "      <td>0.618028</td>\n",
       "      <td>0.356637</td>\n",
       "    </tr>\n",
       "    <tr>\n",
       "      <th>Random forest 60</th>\n",
       "      <td>0.692000</td>\n",
       "      <td>0.6910</td>\n",
       "      <td>0.629158</td>\n",
       "      <td>7.971828</td>\n",
       "    </tr>\n",
       "    <tr>\n",
       "      <th>KNN 14</th>\n",
       "      <td>0.685000</td>\n",
       "      <td>0.6765</td>\n",
       "      <td>0.704889</td>\n",
       "      <td>0.413642</td>\n",
       "    </tr>\n",
       "    <tr>\n",
       "      <th>KNN 10</th>\n",
       "      <td>0.679333</td>\n",
       "      <td>0.6760</td>\n",
       "      <td>0.803104</td>\n",
       "      <td>0.384195</td>\n",
       "    </tr>\n",
       "    <tr>\n",
       "      <th>KNN 6</th>\n",
       "      <td>0.673667</td>\n",
       "      <td>0.6750</td>\n",
       "      <td>1.588821</td>\n",
       "      <td>0.492536</td>\n",
       "    </tr>\n",
       "  </tbody>\n",
       "</table>\n",
       "</div>"
      ],
      "text/plain": [
       "                     Train mean accuracy  Test accuracy  Test log loss  \\\n",
       "Random forest 100               0.694333         0.6985       0.623871   \n",
       "Random forest 140               0.695000         0.6980       0.619746   \n",
       "SVM                             0.695333         0.6975       0.612710   \n",
       "Decision tree 6                 0.686000         0.6975       0.624203   \n",
       "Decision tree 10                0.687333         0.6975       0.624203   \n",
       "Decision tree 14                0.686667         0.6975       0.624203   \n",
       "Logistic Regression             0.692667         0.6970       0.618028   \n",
       "Random forest 60                0.692000         0.6910       0.629158   \n",
       "KNN 14                          0.685000         0.6765       0.704889   \n",
       "KNN 10                          0.679333         0.6760       0.803104   \n",
       "KNN 6                           0.673667         0.6750       1.588821   \n",
       "\n",
       "                     Time duration (sec)  \n",
       "Random forest 100              10.969591  \n",
       "Random forest 140              12.111124  \n",
       "SVM                            31.886543  \n",
       "Decision tree 6                 0.233759  \n",
       "Decision tree 10                0.227315  \n",
       "Decision tree 14                0.224374  \n",
       "Logistic Regression             0.356637  \n",
       "Random forest 60                7.971828  \n",
       "KNN 14                          0.413642  \n",
       "KNN 10                          0.384195  \n",
       "KNN 6                           0.492536  "
      ]
     },
     "execution_count": 18,
     "metadata": {},
     "output_type": "execute_result"
    }
   ],
   "source": [
    "no_pca_results = compute_models(X_train, y_train, X_test, y_test)\n",
    "no_pca_results"
   ]
  },
  {
   "cell_type": "markdown",
   "metadata": {
    "_cell_guid": "12919bbf-6fa8-49c9-9cc8-4658b2b538cf",
    "_uuid": "4b262bdf240d04d304f90f4fff3f82fb5efe6407"
   },
   "source": [
    "#### Modelling with PCA\n",
    "\n",
    "Alright, we have got that our Logistic Regression does not converge, which means we cannot even reach local optima. Thus, chances are that the data needs to be normalized."
   ]
  },
  {
   "cell_type": "markdown",
   "metadata": {
    "_cell_guid": "7fc548ea-6e26-438f-9550-aef2a954a80b",
    "_uuid": "0b676aef0886092f04ba0950026227c4dd4ccb4b"
   },
   "source": [
    "Running models with every PCA feature:"
   ]
  },
  {
   "cell_type": "code",
   "execution_count": 19,
   "metadata": {
    "_cell_guid": "58ef431f-6bcc-4c04-8da5-f2f457a89110",
    "_uuid": "05ef1c2d6828811011e50cc07ed97f8845acef99"
   },
   "outputs": [
    {
     "data": {
      "text/html": [
       "<div>\n",
       "<style scoped>\n",
       "    .dataframe tbody tr th:only-of-type {\n",
       "        vertical-align: middle;\n",
       "    }\n",
       "\n",
       "    .dataframe tbody tr th {\n",
       "        vertical-align: top;\n",
       "    }\n",
       "\n",
       "    .dataframe thead th {\n",
       "        text-align: right;\n",
       "    }\n",
       "</style>\n",
       "<table border=\"1\" class=\"dataframe\">\n",
       "  <thead>\n",
       "    <tr style=\"text-align: right;\">\n",
       "      <th></th>\n",
       "      <th>Train mean accuracy</th>\n",
       "      <th>Test accuracy</th>\n",
       "      <th>Test log loss</th>\n",
       "      <th>Time duration (sec)</th>\n",
       "    </tr>\n",
       "  </thead>\n",
       "  <tbody>\n",
       "    <tr>\n",
       "      <th>Random forest 140</th>\n",
       "      <td>0.693667</td>\n",
       "      <td>0.6980</td>\n",
       "      <td>0.617620</td>\n",
       "      <td>18.177571</td>\n",
       "    </tr>\n",
       "    <tr>\n",
       "      <th>SVM</th>\n",
       "      <td>0.695333</td>\n",
       "      <td>0.6975</td>\n",
       "      <td>0.612495</td>\n",
       "      <td>30.344231</td>\n",
       "    </tr>\n",
       "    <tr>\n",
       "      <th>Decision tree 14</th>\n",
       "      <td>0.691000</td>\n",
       "      <td>0.6965</td>\n",
       "      <td>0.621001</td>\n",
       "      <td>0.331531</td>\n",
       "    </tr>\n",
       "    <tr>\n",
       "      <th>Logistic Regression</th>\n",
       "      <td>0.691000</td>\n",
       "      <td>0.6960</td>\n",
       "      <td>0.620520</td>\n",
       "      <td>0.084482</td>\n",
       "    </tr>\n",
       "    <tr>\n",
       "      <th>Decision tree 6</th>\n",
       "      <td>0.694000</td>\n",
       "      <td>0.6950</td>\n",
       "      <td>0.620449</td>\n",
       "      <td>0.364224</td>\n",
       "    </tr>\n",
       "    <tr>\n",
       "      <th>Decision tree 10</th>\n",
       "      <td>0.694000</td>\n",
       "      <td>0.6950</td>\n",
       "      <td>0.620449</td>\n",
       "      <td>0.333226</td>\n",
       "    </tr>\n",
       "    <tr>\n",
       "      <th>Random forest 100</th>\n",
       "      <td>0.695000</td>\n",
       "      <td>0.6940</td>\n",
       "      <td>0.625869</td>\n",
       "      <td>13.440646</td>\n",
       "    </tr>\n",
       "    <tr>\n",
       "      <th>Random forest 60</th>\n",
       "      <td>0.691333</td>\n",
       "      <td>0.6935</td>\n",
       "      <td>0.624030</td>\n",
       "      <td>8.063307</td>\n",
       "    </tr>\n",
       "    <tr>\n",
       "      <th>KNN 10</th>\n",
       "      <td>0.676000</td>\n",
       "      <td>0.6875</td>\n",
       "      <td>0.994688</td>\n",
       "      <td>0.353685</td>\n",
       "    </tr>\n",
       "    <tr>\n",
       "      <th>KNN 14</th>\n",
       "      <td>0.685667</td>\n",
       "      <td>0.6870</td>\n",
       "      <td>0.763145</td>\n",
       "      <td>0.358193</td>\n",
       "    </tr>\n",
       "    <tr>\n",
       "      <th>KNN 6</th>\n",
       "      <td>0.668000</td>\n",
       "      <td>0.6725</td>\n",
       "      <td>1.633404</td>\n",
       "      <td>0.339823</td>\n",
       "    </tr>\n",
       "  </tbody>\n",
       "</table>\n",
       "</div>"
      ],
      "text/plain": [
       "                     Train mean accuracy  Test accuracy  Test log loss  \\\n",
       "Random forest 140               0.693667         0.6980       0.617620   \n",
       "SVM                             0.695333         0.6975       0.612495   \n",
       "Decision tree 14                0.691000         0.6965       0.621001   \n",
       "Logistic Regression             0.691000         0.6960       0.620520   \n",
       "Decision tree 6                 0.694000         0.6950       0.620449   \n",
       "Decision tree 10                0.694000         0.6950       0.620449   \n",
       "Random forest 100               0.695000         0.6940       0.625869   \n",
       "Random forest 60                0.691333         0.6935       0.624030   \n",
       "KNN 10                          0.676000         0.6875       0.994688   \n",
       "KNN 14                          0.685667         0.6870       0.763145   \n",
       "KNN 6                           0.668000         0.6725       1.633404   \n",
       "\n",
       "                     Time duration (sec)  \n",
       "Random forest 140              18.177571  \n",
       "SVM                            30.344231  \n",
       "Decision tree 14                0.331531  \n",
       "Logistic Regression             0.084482  \n",
       "Decision tree 6                 0.364224  \n",
       "Decision tree 10                0.333226  \n",
       "Random forest 100              13.440646  \n",
       "Random forest 60                8.063307  \n",
       "KNN 10                          0.353685  \n",
       "KNN 14                          0.358193  \n",
       "KNN 6                           0.339823  "
      ]
     },
     "execution_count": 19,
     "metadata": {},
     "output_type": "execute_result"
    }
   ],
   "source": [
    "pca_results = compute_models(pca_X_train, y_train, pca_X_test, y_test)\n",
    "pca_results"
   ]
  },
  {
   "cell_type": "markdown",
   "metadata": {
    "_cell_guid": "03ff0f2e-f4dc-4dc0-9a51-18fe0e58d2e1",
    "_uuid": "f7e0689750f3d5bc2fd7b1f51e258ad9065f9dcf"
   },
   "source": [
    "Great! We resolved the issue with convergence."
   ]
  },
  {
   "cell_type": "markdown",
   "metadata": {
    "_cell_guid": "cd092cac-6b43-46fc-b9fe-20fee339dbd9",
    "_uuid": "515b3a04c173e3f521a6a06e8aa0db26ab937ce7"
   },
   "source": [
    "Computing the PCA without rescaling data and with only one component."
   ]
  },
  {
   "cell_type": "code",
   "execution_count": 20,
   "metadata": {
    "_cell_guid": "1bfe8365-fb1d-4ff3-a0dd-08749e97c97c",
    "_uuid": "48c004d6b3c3f0d3b035c9888ef19948d3658da4"
   },
   "outputs": [
    {
     "name": "stdout",
     "output_type": "stream",
     "text": [
      "pca_X_train shape: (3000, 1)\n",
      "pca_X_test shape: (2000, 1)\n"
     ]
    }
   ],
   "source": [
    "pca = PCA(n_components=1)\n",
    "\n",
    "pca.fit(X_train)\n",
    "\n",
    "pca1_X_train = pca.transform(X_train)\n",
    "pca1_X_test = pca.transform(X_test)\n",
    "\n",
    "print('pca_X_train shape: {}'.format(pca1_X_train.shape))\n",
    "print('pca_X_test shape: {}'.format(pca1_X_test.shape))"
   ]
  },
  {
   "cell_type": "markdown",
   "metadata": {
    "_cell_guid": "ad17f5cc-4860-41b2-a95e-1e77de5a8715",
    "_uuid": "700dad77b924b5132f4d6ca79d36106ce8dc6ac4"
   },
   "source": [
    "After calculation let us see the difference in results with only one, not normalized PCA component:"
   ]
  },
  {
   "cell_type": "code",
   "execution_count": 21,
   "metadata": {
    "_cell_guid": "79ba8969-1edf-4b2b-880b-80f4d778129b",
    "_uuid": "e91ed3db05f384592dc4e90c0623278626274e7f"
   },
   "outputs": [
    {
     "data": {
      "text/html": [
       "<div>\n",
       "<style scoped>\n",
       "    .dataframe tbody tr th:only-of-type {\n",
       "        vertical-align: middle;\n",
       "    }\n",
       "\n",
       "    .dataframe tbody tr th {\n",
       "        vertical-align: top;\n",
       "    }\n",
       "\n",
       "    .dataframe thead th {\n",
       "        text-align: right;\n",
       "    }\n",
       "</style>\n",
       "<table border=\"1\" class=\"dataframe\">\n",
       "  <thead>\n",
       "    <tr style=\"text-align: right;\">\n",
       "      <th></th>\n",
       "      <th>Train mean accuracy</th>\n",
       "      <th>Test accuracy</th>\n",
       "      <th>Test log loss</th>\n",
       "      <th>Time duration (sec)</th>\n",
       "    </tr>\n",
       "  </thead>\n",
       "  <tbody>\n",
       "    <tr>\n",
       "      <th>Logistic Regression</th>\n",
       "      <td>0.695333</td>\n",
       "      <td>0.6975</td>\n",
       "      <td>0.612973</td>\n",
       "      <td>0.153043</td>\n",
       "    </tr>\n",
       "    <tr>\n",
       "      <th>SVM</th>\n",
       "      <td>0.695333</td>\n",
       "      <td>0.6975</td>\n",
       "      <td>0.613511</td>\n",
       "      <td>7.896293</td>\n",
       "    </tr>\n",
       "    <tr>\n",
       "      <th>Decision tree 10</th>\n",
       "      <td>0.692667</td>\n",
       "      <td>0.6970</td>\n",
       "      <td>0.611704</td>\n",
       "      <td>0.018320</td>\n",
       "    </tr>\n",
       "    <tr>\n",
       "      <th>Decision tree 14</th>\n",
       "      <td>0.691333</td>\n",
       "      <td>0.6970</td>\n",
       "      <td>0.620553</td>\n",
       "      <td>0.018187</td>\n",
       "    </tr>\n",
       "    <tr>\n",
       "      <th>Decision tree 6</th>\n",
       "      <td>0.695000</td>\n",
       "      <td>0.6965</td>\n",
       "      <td>0.684770</td>\n",
       "      <td>0.019183</td>\n",
       "    </tr>\n",
       "    <tr>\n",
       "      <th>KNN 14</th>\n",
       "      <td>0.681333</td>\n",
       "      <td>0.6800</td>\n",
       "      <td>0.672109</td>\n",
       "      <td>0.159124</td>\n",
       "    </tr>\n",
       "    <tr>\n",
       "      <th>KNN 10</th>\n",
       "      <td>0.684000</td>\n",
       "      <td>0.6670</td>\n",
       "      <td>0.989122</td>\n",
       "      <td>0.162811</td>\n",
       "    </tr>\n",
       "    <tr>\n",
       "      <th>KNN 6</th>\n",
       "      <td>0.676000</td>\n",
       "      <td>0.6630</td>\n",
       "      <td>1.732836</td>\n",
       "      <td>0.157490</td>\n",
       "    </tr>\n",
       "    <tr>\n",
       "      <th>Random forest 140</th>\n",
       "      <td>0.577333</td>\n",
       "      <td>0.5845</td>\n",
       "      <td>2.165660</td>\n",
       "      <td>5.093481</td>\n",
       "    </tr>\n",
       "    <tr>\n",
       "      <th>Random forest 100</th>\n",
       "      <td>0.578333</td>\n",
       "      <td>0.5845</td>\n",
       "      <td>2.278976</td>\n",
       "      <td>3.622857</td>\n",
       "    </tr>\n",
       "    <tr>\n",
       "      <th>Random forest 60</th>\n",
       "      <td>0.577667</td>\n",
       "      <td>0.5840</td>\n",
       "      <td>2.751252</td>\n",
       "      <td>2.162822</td>\n",
       "    </tr>\n",
       "  </tbody>\n",
       "</table>\n",
       "</div>"
      ],
      "text/plain": [
       "                     Train mean accuracy  Test accuracy  Test log loss  \\\n",
       "Logistic Regression             0.695333         0.6975       0.612973   \n",
       "SVM                             0.695333         0.6975       0.613511   \n",
       "Decision tree 10                0.692667         0.6970       0.611704   \n",
       "Decision tree 14                0.691333         0.6970       0.620553   \n",
       "Decision tree 6                 0.695000         0.6965       0.684770   \n",
       "KNN 14                          0.681333         0.6800       0.672109   \n",
       "KNN 10                          0.684000         0.6670       0.989122   \n",
       "KNN 6                           0.676000         0.6630       1.732836   \n",
       "Random forest 140               0.577333         0.5845       2.165660   \n",
       "Random forest 100               0.578333         0.5845       2.278976   \n",
       "Random forest 60                0.577667         0.5840       2.751252   \n",
       "\n",
       "                     Time duration (sec)  \n",
       "Logistic Regression             0.153043  \n",
       "SVM                             7.896293  \n",
       "Decision tree 10                0.018320  \n",
       "Decision tree 14                0.018187  \n",
       "Decision tree 6                 0.019183  \n",
       "KNN 14                          0.159124  \n",
       "KNN 10                          0.162811  \n",
       "KNN 6                           0.157490  \n",
       "Random forest 140               5.093481  \n",
       "Random forest 100               3.622857  \n",
       "Random forest 60                2.162822  "
      ]
     },
     "execution_count": 21,
     "metadata": {},
     "output_type": "execute_result"
    }
   ],
   "source": [
    "pca_results = compute_models(pca1_X_train, y_train, pca1_X_test, y_test)\n",
    "pca_results"
   ]
  },
  {
   "cell_type": "markdown",
   "metadata": {
    "_cell_guid": "f6d75f38-5319-409a-a2b5-d85a19740290",
    "_uuid": "ec1406ee087d1f19132ced9611d5d282fe9feaa5"
   },
   "source": [
    "Wait what. We have got almost the same results using only one PCA feature? And look how we improved the calculation time!"
   ]
  },
  {
   "cell_type": "markdown",
   "metadata": {
    "_cell_guid": "67eb2d71-5415-480b-bc1d-772b083ce83e",
    "_uuid": "58cb5d1ce599eeaf1ea4d50cf7e15a667fcfebec"
   },
   "source": [
    "### The fastest models\n",
    "\n",
    "By now we have observed, there is no big difference in test accuracy between models and feature selection.\n",
    "\n",
    "There are models which have almost the same accuracy and log loss, although they are significantly faster than the fastest one:\n",
    "* Decision Tree\n",
    "* KNN\n"
   ]
  },
  {
   "cell_type": "code",
   "execution_count": 22,
   "metadata": {
    "_cell_guid": "823ccc09-362c-4bd8-a1dd-f3c5f32e13ee",
    "_uuid": "ded08da22fdf86b4732e9d044dae265a57419337"
   },
   "outputs": [],
   "source": [
    "def draw_models(model_str,X_train, y_train, X_test, y_test, range_):\n",
    "    test_accuracy = [0]*len(range_)\n",
    "    test_log_loss = [0]*len(range_)\n",
    "    def test_model(model):\n",
    "        model.fit(X_train, y_train)\n",
    "        test_accuracy = model.score(X_test, y_test)\n",
    "        model_probs = model.predict_proba(X_test)\n",
    "        test_log_loss = log_loss(y_test, model_probs)\n",
    "        return test_accuracy, test_log_loss\n",
    "    if (model_str=='DT'):\n",
    "        for i,x in enumerate(range_):\n",
    "            m = DecisionTreeClassifier(max_depth=3, min_samples_leaf=x)\n",
    "            test_accuracy[i], test_log_loss[i] = test_model(m)\n",
    "    else:\n",
    "        for i,x in enumerate(range_):\n",
    "            m = KNeighborsClassifier(n_neighbors = x)\n",
    "            test_accuracy[i], test_log_loss[i] = test_model(m)\n",
    "    \n",
    "    plt.figure(figsize=(15,5))\n",
    "    plt.subplot(121)\n",
    "    plt.plot(range_, test_accuracy,'--o', label='Test accuracy')\n",
    "    plt.legend()\n",
    "    plt.subplot(122)\n",
    "    plt.plot(range_, test_log_loss,'--o', label='Test log loss')\n",
    "    plt.legend()\n",
    "    plt.show()"
   ]
  },
  {
   "cell_type": "markdown",
   "metadata": {
    "_cell_guid": "f5521206-1736-4c88-85d3-5000ba902750",
    "_uuid": "dc79220b7c5153d3406ca4bccb40039daa238952"
   },
   "source": [
    "#### Decision Tree"
   ]
  },
  {
   "cell_type": "code",
   "execution_count": 23,
   "metadata": {
    "_cell_guid": "59c72094-602e-4c5e-9108-89a5893f33c1",
    "_uuid": "70d3b3bf9dee81f88d6018692f1823c22ee47cb5"
   },
   "outputs": [
    {
     "data": {
      "image/png": "[encoded data removed]",
      "text/plain": [
       "<Figure size 1500x500 with 2 Axes>"
      ]
     },
     "metadata": {},
     "output_type": "display_data"
    }
   ],
   "source": [
    "draw_models('DT',pca1_X_train, y_train, pca1_X_test, y_test,range(2,20,4))"
   ]
  },
  {
   "cell_type": "markdown",
   "metadata": {
    "_cell_guid": "88efb09e-196f-4b3e-8976-801bee57fbdb",
    "_uuid": "0ce73b3779c22211c92c237bd6c4bea7328b505a"
   },
   "source": [
    "Interesting that with 10 as the minimum number of samples at a leaf node we get a compromise between test accuracy and log loss."
   ]
  },
  {
   "cell_type": "markdown",
   "metadata": {
    "_cell_guid": "21350dbe-2797-4612-9c34-e2c7e825f192",
    "_uuid": "d73c418034a9e1e3fc7d2845ff1fc2e348a44ac3"
   },
   "source": [
    "#### KNN"
   ]
  },
  {
   "cell_type": "code",
   "execution_count": 24,
   "metadata": {
    "_cell_guid": "08535169-2991-407e-82a4-8096a98ed870",
    "_uuid": "700072a0632fa6c556a5ce8ee28a00746ce12906"
   },
   "outputs": [
    {
     "data": {
      "image/png": "[encoded data removed]",
      "text/plain": [
       "<Figure size 1500x500 with 2 Axes>"
      ]
     },
     "metadata": {},
     "output_type": "display_data"
    }
   ],
   "source": [
    "draw_models('KNN',pca1_X_train, y_train, pca1_X_test, y_test,range(10,19))"
   ]
  },
  {
   "cell_type": "markdown",
   "metadata": {
    "_cell_guid": "d907dab5-f771-48e3-8ba4-d0d83f951224",
    "_uuid": "54562b46814c95f75231bad5bfbbe67593ea8484"
   },
   "source": [
    "Thus the KNN gives us 16 as the comromise point."
   ]
  },
  {
   "cell_type": "markdown",
   "metadata": {
    "_cell_guid": "b45a6f2e-85b6-45d9-9cab-ef15c15e1195",
    "_uuid": "01315beebdcbb2756cc17e5e061a9d89ec933900",
    "collapsed": true
   },
   "source": [
    "### Temporary Conclusion\n",
    "\n",
    "We have observed that Logistic Regression, Decision Tree and KNN algorithms lead in the group of classifiers given their results and speed.\n",
    "\n",
    "The second interesting thing is that we got the same models performance with only one PCA component applied. Which means we greatly reduced the computational time and kept the results as well.\n",
    "\n",
    "On the other hand, we have got only ~70% test accuracy and ~0.61 log loss. Therefore, there is still a need to find better approach than what was used above."
   ]
  }
 ],
 "metadata": {
  "kernelspec": {
   "display_name": "Python 3 (ipykernel)",
   "language": "python",
   "name": "python3"
  },
  "language_info": {
   "codemirror_mode": {
    "name": "ipython",
    "version": 3
   },
   "file_extension": ".py",
   "mimetype": "text/x-python",
   "name": "python",
   "nbconvert_exporter": "python",
   "pygments_lexer": "ipython3",
   "version": "3.10.6"
  }
 },
 "nbformat": 4,
 "nbformat_minor": 1
}
